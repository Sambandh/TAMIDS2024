{
 "cells": [
  {
   "cell_type": "code",
   "execution_count": 19,
   "id": "8a61e3b7-46d6-47de-b3db-5d4380c770fb",
   "metadata": {},
   "outputs": [
    {
     "data": {
      "text/html": [
       "<div>\n",
       "<style scoped>\n",
       "    .dataframe tbody tr th:only-of-type {\n",
       "        vertical-align: middle;\n",
       "    }\n",
       "\n",
       "    .dataframe tbody tr th {\n",
       "        vertical-align: top;\n",
       "    }\n",
       "\n",
       "    .dataframe thead th {\n",
       "        text-align: right;\n",
       "    }\n",
       "</style>\n",
       "<table border=\"1\" class=\"dataframe\">\n",
       "  <thead>\n",
       "    <tr style=\"text-align: right;\">\n",
       "      <th></th>\n",
       "      <th>FIPS*</th>\n",
       "      <th>State</th>\n",
       "      <th>County name</th>\n",
       "      <th>2005</th>\n",
       "      <th>2015</th>\n",
       "      <th>2021</th>\n",
       "    </tr>\n",
       "  </thead>\n",
       "  <tbody>\n",
       "    <tr>\n",
       "      <th>1</th>\n",
       "      <td>48039.0</td>\n",
       "      <td>Texas</td>\n",
       "      <td>Brazoria</td>\n",
       "      <td>1.581690</td>\n",
       "      <td>0.916605</td>\n",
       "      <td>1.074360</td>\n",
       "    </tr>\n",
       "    <tr>\n",
       "      <th>2</th>\n",
       "      <td>48061.0</td>\n",
       "      <td>Texas</td>\n",
       "      <td>Cameron</td>\n",
       "      <td>10.343973</td>\n",
       "      <td>10.403126</td>\n",
       "      <td>10.699476</td>\n",
       "    </tr>\n",
       "    <tr>\n",
       "      <th>3</th>\n",
       "      <td>48167.0</td>\n",
       "      <td>Texas</td>\n",
       "      <td>Galveston</td>\n",
       "      <td>23.854850</td>\n",
       "      <td>24.932156</td>\n",
       "      <td>24.767944</td>\n",
       "    </tr>\n",
       "    <tr>\n",
       "      <th>4</th>\n",
       "      <td>48245.0</td>\n",
       "      <td>Texas</td>\n",
       "      <td>Jefferson</td>\n",
       "      <td>3.301914</td>\n",
       "      <td>3.058323</td>\n",
       "      <td>3.262003</td>\n",
       "    </tr>\n",
       "    <tr>\n",
       "      <th>5</th>\n",
       "      <td>48355.0</td>\n",
       "      <td>Texas</td>\n",
       "      <td>Nueces</td>\n",
       "      <td>32.923114</td>\n",
       "      <td>31.833277</td>\n",
       "      <td>27.848269</td>\n",
       "    </tr>\n",
       "    <tr>\n",
       "      <th>8</th>\n",
       "      <td>22051.0</td>\n",
       "      <td>Louisiana</td>\n",
       "      <td>Jefferson</td>\n",
       "      <td>27.523850</td>\n",
       "      <td>26.759547</td>\n",
       "      <td>29.565573</td>\n",
       "    </tr>\n",
       "    <tr>\n",
       "      <th>9</th>\n",
       "      <td>22057.0</td>\n",
       "      <td>Louisiana</td>\n",
       "      <td>Lafourche</td>\n",
       "      <td>0.459091</td>\n",
       "      <td>0.869343</td>\n",
       "      <td>0.705755</td>\n",
       "    </tr>\n",
       "    <tr>\n",
       "      <th>10</th>\n",
       "      <td>22071.0</td>\n",
       "      <td>Louisiana</td>\n",
       "      <td>Orleans</td>\n",
       "      <td>59.719514</td>\n",
       "      <td>59.891353</td>\n",
       "      <td>53.838294</td>\n",
       "    </tr>\n",
       "  </tbody>\n",
       "</table>\n",
       "</div>"
      ],
      "text/plain": [
       "      FIPS*      State County name       2005       2015       2021\n",
       "1   48039.0      Texas    Brazoria   1.581690   0.916605   1.074360\n",
       "2   48061.0      Texas     Cameron  10.343973  10.403126  10.699476\n",
       "3   48167.0      Texas   Galveston  23.854850  24.932156  24.767944\n",
       "4   48245.0      Texas   Jefferson   3.301914   3.058323   3.262003\n",
       "5   48355.0      Texas      Nueces  32.923114  31.833277  27.848269\n",
       "8   22051.0  Louisiana   Jefferson  27.523850  26.759547  29.565573\n",
       "9   22057.0  Louisiana   Lafourche   0.459091   0.869343   0.705755\n",
       "10  22071.0  Louisiana     Orleans  59.719514  59.891353  53.838294"
      ]
     },
     "execution_count": 19,
     "metadata": {},
     "output_type": "execute_result"
    }
   ],
   "source": [
    "import numpy as np\n",
    "import pandas as pd\n",
    "import warnings\n",
    "warnings.filterwarnings('ignore')\n",
    "\n",
    "\n",
    "\n",
    "\n",
    "\n",
    "\n",
    "\n",
    "\n",
    "\n",
    "import plotly.express as px\n",
    "\n",
    "\n",
    "def take_percentage(df):\n",
    "    df_state = df[df['County name'].isna()][df['State'].notna()][['State',2005,2015,2021]]\n",
    "    df_county = df[df['County name'].notna()][['FIPS*','State','County name',2005,2015,2021]]\n",
    "    for indx,row in df_county.iterrows():\n",
    "        state = row['State']\n",
    "        state_val = df_state[df_state['State']==state]\n",
    "        for year in [2005,2015,2021]:\n",
    "            percentage = 100*row[year]/state_val[year].values\n",
    "            df_county.loc[indx,year] = percentage[0]\n",
    "    return df_county\n",
    "\n",
    "\n",
    "\n",
    "\n",
    "\n",
    "living_res_df = pd.read_excel('living resources GDP.xlsx').dropna(how = 'all')\n",
    "living_res_df = take_percentage(living_res_df)\n",
    "living_res_df.head(8)\n",
    "\n",
    "marine_construct_df = pd.read_excel('marine construction.xlsx')\n",
    "marine_construct_df = take_percentage(marine_construct_df.dropna(how = 'all'))\n",
    "marine_construct_df[2005] = marine_construct_df[2005].fillna(2*marine_construct_df[2015]-marine_construct_df[2021])\n",
    "marine_construct_df[2015] = marine_construct_df[2015].fillna(0.5*marine_construct_df[2005] + 0.5*marine_construct_df[2021])\n",
    "marine_construct_df = marine_construct_df.dropna()\n",
    "marine_construct_df.head(8)\n",
    "\n",
    "marine_transport_df = pd.read_excel('marine transportation.xlsx')\n",
    "marine_transport_df = take_percentage(marine_transport_df.dropna(how = 'all'))\n",
    "marine_transport_df[2005] = marine_transport_df[2005].fillna(2*marine_transport_df[2015]-marine_transport_df[2021])\n",
    "marine_transport_df[2015] = marine_transport_df[2015].fillna(0.5*marine_transport_df[2005] + 0.5*marine_transport_df[2021])\n",
    "marine_transport_df = marine_transport_df.dropna()\n",
    "marine_transport_df.head(8)\n",
    "\n",
    "tot_ocean_eco = take_percentage(pd.read_excel('total ocean economy.xlsx').dropna(how = 'all'))\n",
    "tot_ocean_eco[2005] = tot_ocean_eco[2005].fillna(2*tot_ocean_eco[2015]-tot_ocean_eco[2021])\n",
    "tot_ocean_eco.head(8)\n",
    "\n",
    "tourism_df = pd.read_excel('tourism and receration.xlsx').dropna(how = 'all')\n",
    "tourism_df = take_percentage(tourism_df)\n",
    "tourism_df.head(8)"
   ]
  },
  {
   "cell_type": "code",
   "execution_count": 20,
   "id": "d9618ec0-6561-46b2-9037-23886af32e8a",
   "metadata": {},
   "outputs": [],
   "source": [
    "import plotly.express as px\n",
    "# Reshape the dataframe\n",
    "df_melt = tot_ocean_eco.melt(id_vars=['FIPS*', 'State', 'County name'], var_name = ['Year'], value_vars=[2005,2015,2021], value_name='Total Ocean GDP')\n",
    "df_melt['State_County'] = df_melt['State'] + df_melt['County name']\n",
    "\n",
    "# Sort the DataFrame\n",
    "df_melt = df_melt.sort_values(by=['State', 'County name'])"
   ]
  },
  {
   "cell_type": "code",
   "execution_count": 21,
   "id": "de8823a1-399c-4484-b936-bcd170548541",
   "metadata": {},
   "outputs": [
    {
     "data": {
      "application/vnd.plotly.v1+json": {
       "config": {
        "plotlyServerURL": "https://plot.ly"
       },
       "data": [
        {
         "hovertemplate": "<b>%{hovertext}</b><br><br>State=Alabama<br>Year=%{x}<br>Total Ocean GDP=%{marker.size}<extra></extra>",
         "hovertext": [
          42.068312301726806,
          44.57310192057757,
          45.47873299859467
         ],
         "legendgroup": "",
         "marker": {
          "color": "#636efa",
          "size": [
           42.068312301726806,
           44.57310192057757,
           45.47873299859467
          ],
          "sizemode": "area",
          "sizeref": 0.11436863721259133,
          "symbol": "circle"
         },
         "mode": "markers",
         "name": "",
         "orientation": "v",
         "showlegend": false,
         "type": "scatter",
         "x": [
          2005,
          2015,
          2021
         ],
         "xaxis": "x",
         "y": [
          42.068312301726806,
          44.57310192057757,
          45.47873299859467
         ],
         "yaxis": "y"
        }
       ],
       "frames": [
        {
         "data": [
          {
           "hovertemplate": "<b>%{hovertext}</b><br><br>State=Alabama<br>Year=%{x}<br>Total Ocean GDP=%{marker.size}<extra></extra>",
           "hovertext": [
            42.068312301726806,
            44.57310192057757,
            45.47873299859467
           ],
           "legendgroup": "",
           "marker": {
            "color": "#636efa",
            "size": [
             42.068312301726806,
             44.57310192057757,
             45.47873299859467
            ],
            "sizemode": "area",
            "sizeref": 0.11436863721259133,
            "symbol": "circle"
           },
           "mode": "markers",
           "name": "",
           "orientation": "v",
           "showlegend": false,
           "type": "scatter",
           "x": [
            2005,
            2015,
            2021
           ],
           "xaxis": "x",
           "y": [
            42.068312301726806,
            44.57310192057757,
            45.47873299859467
           ],
           "yaxis": "y"
          }
         ],
         "name": "Alabama"
        },
        {
         "data": [
          {
           "hovertemplate": "<b>%{hovertext}</b><br><br>State=Delaware<br>Year=%{x}<br>Total Ocean GDP=%{marker.size}<extra></extra>",
           "hovertext": [
            33.333333333333336,
            33.333333271038406,
            33.333333333333336
           ],
           "legendgroup": "",
           "marker": {
            "color": "#636efa",
            "size": [
             33.333333333333336,
             33.333333271038406,
             33.333333333333336
            ],
            "sizemode": "area",
            "sizeref": 0.11436863721259133,
            "symbol": "circle"
           },
           "mode": "markers",
           "name": "",
           "orientation": "v",
           "showlegend": false,
           "type": "scatter",
           "x": [
            2005,
            2015,
            2021
           ],
           "xaxis": "x",
           "y": [
            33.333333333333336,
            33.333333271038406,
            33.333333333333336
           ],
           "yaxis": "y"
          }
         ],
         "name": "Delaware"
        },
        {
         "data": [
          {
           "hovertemplate": "<b>%{hovertext}</b><br><br>State=Florida<br>Year=%{x}<br>Total Ocean GDP=%{marker.size}<extra></extra>",
           "hovertext": [
            3.6692505191059137,
            3.7432574333701822,
            3.6158435335134382
           ],
           "legendgroup": "",
           "marker": {
            "color": "#636efa",
            "size": [
             3.6692505191059137,
             3.7432574333701822,
             3.6158435335134382
            ],
            "sizemode": "area",
            "sizeref": 0.11436863721259133,
            "symbol": "circle"
           },
           "mode": "markers",
           "name": "",
           "orientation": "v",
           "showlegend": false,
           "type": "scatter",
           "x": [
            2005,
            2015,
            2021
           ],
           "xaxis": "x",
           "y": [
            3.6692505191059137,
            3.7432574333701822,
            3.6158435335134382
           ],
           "yaxis": "y"
          }
         ],
         "name": "Florida"
        },
        {
         "data": [
          {
           "hovertemplate": "<b>%{hovertext}</b><br><br>State=Georgia<br>Year=%{x}<br>Total Ocean GDP=%{marker.size}<extra></extra>",
           "hovertext": [
            35.15080761381264,
            45.45728761731739,
            45.74745488503653
           ],
           "legendgroup": "",
           "marker": {
            "color": "#636efa",
            "size": [
             35.15080761381264,
             45.45728761731739,
             45.74745488503653
            ],
            "sizemode": "area",
            "sizeref": 0.11436863721259133,
            "symbol": "circle"
           },
           "mode": "markers",
           "name": "",
           "orientation": "v",
           "showlegend": false,
           "type": "scatter",
           "x": [
            2005,
            2015,
            2021
           ],
           "xaxis": "x",
           "y": [
            35.15080761381264,
            45.45728761731739,
            45.74745488503653
           ],
           "yaxis": "y"
          }
         ],
         "name": "Georgia"
        },
        {
         "data": [
          {
           "hovertemplate": "<b>%{hovertext}</b><br><br>State=Louisiana<br>Year=%{x}<br>Total Ocean GDP=%{marker.size}<extra></extra>",
           "hovertext": [
            14.304705355212281,
            13.063328110961866,
            12.583408271514617
           ],
           "legendgroup": "",
           "marker": {
            "color": "#636efa",
            "size": [
             14.304705355212281,
             13.063328110961866,
             12.583408271514617
            ],
            "sizemode": "area",
            "sizeref": 0.11436863721259133,
            "symbol": "circle"
           },
           "mode": "markers",
           "name": "",
           "orientation": "v",
           "showlegend": false,
           "type": "scatter",
           "x": [
            2005,
            2015,
            2021
           ],
           "xaxis": "x",
           "y": [
            14.304705355212281,
            13.063328110961866,
            12.583408271514617
           ],
           "yaxis": "y"
          }
         ],
         "name": "Louisiana"
        },
        {
         "data": [
          {
           "hovertemplate": "<b>%{hovertext}</b><br><br>State=Maine<br>Year=%{x}<br>Total Ocean GDP=%{marker.size}<extra></extra>",
           "hovertext": [
            28.933164872412505,
            30.392173486790533,
            30.528911007587194
           ],
           "legendgroup": "",
           "marker": {
            "color": "#636efa",
            "size": [
             28.933164872412505,
             30.392173486790533,
             30.528911007587194
            ],
            "sizemode": "area",
            "sizeref": 0.11436863721259133,
            "symbol": "circle"
           },
           "mode": "markers",
           "name": "",
           "orientation": "v",
           "showlegend": false,
           "type": "scatter",
           "x": [
            2005,
            2015,
            2021
           ],
           "xaxis": "x",
           "y": [
            28.933164872412505,
            30.392173486790533,
            30.528911007587194
           ],
           "yaxis": "y"
          }
         ],
         "name": "Maine"
        },
        {
         "data": [
          {
           "hovertemplate": "<b>%{hovertext}</b><br><br>State=Maryland<br>Year=%{x}<br>Total Ocean GDP=%{marker.size}<extra></extra>",
           "hovertext": [
            11.763564619157627,
            12.051786708524851,
            12.469198100190738
           ],
           "legendgroup": "",
           "marker": {
            "color": "#636efa",
            "size": [
             11.763564619157627,
             12.051786708524851,
             12.469198100190738
            ],
            "sizemode": "area",
            "sizeref": 0.11436863721259133,
            "symbol": "circle"
           },
           "mode": "markers",
           "name": "",
           "orientation": "v",
           "showlegend": false,
           "type": "scatter",
           "x": [
            2005,
            2015,
            2021
           ],
           "xaxis": "x",
           "y": [
            11.763564619157627,
            12.051786708524851,
            12.469198100190738
           ],
           "yaxis": "y"
          }
         ],
         "name": "Maryland"
        },
        {
         "data": [
          {
           "hovertemplate": "<b>%{hovertext}</b><br><br>State=Massachusetts<br>Year=%{x}<br>Total Ocean GDP=%{marker.size}<extra></extra>",
           "hovertext": [
            10.906125341644392,
            10.989974130397448,
            13.119142567872904
           ],
           "legendgroup": "",
           "marker": {
            "color": "#636efa",
            "size": [
             10.906125341644392,
             10.989974130397448,
             13.119142567872904
            ],
            "sizemode": "area",
            "sizeref": 0.11436863721259133,
            "symbol": "circle"
           },
           "mode": "markers",
           "name": "",
           "orientation": "v",
           "showlegend": false,
           "type": "scatter",
           "x": [
            2005,
            2015,
            2021
           ],
           "xaxis": "x",
           "y": [
            10.906125341644392,
            10.989974130397448,
            13.119142567872904
           ],
           "yaxis": "y"
          }
         ],
         "name": "Massachusetts"
        },
        {
         "data": [
          {
           "hovertemplate": "<b>%{hovertext}</b><br><br>State=Mississippi<br>Year=%{x}<br>Total Ocean GDP=%{marker.size}<extra></extra>",
           "hovertext": [
            35.33575832230989,
            40.18265324247956,
            40.25209099870287
           ],
           "legendgroup": "",
           "marker": {
            "color": "#636efa",
            "size": [
             35.33575832230989,
             40.18265324247956,
             40.25209099870287
            ],
            "sizemode": "area",
            "sizeref": 0.11436863721259133,
            "symbol": "circle"
           },
           "mode": "markers",
           "name": "",
           "orientation": "v",
           "showlegend": false,
           "type": "scatter",
           "x": [
            2005,
            2015,
            2021
           ],
           "xaxis": "x",
           "y": [
            35.33575832230989,
            40.18265324247956,
            40.25209099870287
           ],
           "yaxis": "y"
          }
         ],
         "name": "Mississippi"
        },
        {
         "data": [
          {
           "hovertemplate": "<b>%{hovertext}</b><br><br>State=New Jersey<br>Year=%{x}<br>Total Ocean GDP=%{marker.size}<extra></extra>",
           "hovertext": [
            5.147801866601489,
            7.144540072164688,
            7.914347750936818
           ],
           "legendgroup": "",
           "marker": {
            "color": "#636efa",
            "size": [
             5.147801866601489,
             7.144540072164688,
             7.914347750936818
            ],
            "sizemode": "area",
            "sizeref": 0.11436863721259133,
            "symbol": "circle"
           },
           "mode": "markers",
           "name": "",
           "orientation": "v",
           "showlegend": false,
           "type": "scatter",
           "x": [
            2005,
            2015,
            2021
           ],
           "xaxis": "x",
           "y": [
            5.147801866601489,
            7.144540072164688,
            7.914347750936818
           ],
           "yaxis": "y"
          }
         ],
         "name": "New Jersey"
        },
        {
         "data": [
          {
           "hovertemplate": "<b>%{hovertext}</b><br><br>State=New York<br>Year=%{x}<br>Total Ocean GDP=%{marker.size}<extra></extra>",
           "hovertext": [
            3.195834279509455,
            2.9099024754405605,
            4.9894417110198575
           ],
           "legendgroup": "",
           "marker": {
            "color": "#636efa",
            "size": [
             3.195834279509455,
             2.9099024754405605,
             4.9894417110198575
            ],
            "sizemode": "area",
            "sizeref": 0.11436863721259133,
            "symbol": "circle"
           },
           "mode": "markers",
           "name": "",
           "orientation": "v",
           "showlegend": false,
           "type": "scatter",
           "x": [
            2005,
            2015,
            2021
           ],
           "xaxis": "x",
           "y": [
            3.195834279509455,
            2.9099024754405605,
            4.9894417110198575
           ],
           "yaxis": "y"
          }
         ],
         "name": "New York"
        },
        {
         "data": [
          {
           "hovertemplate": "<b>%{hovertext}</b><br><br>State=North Carolina<br>Year=%{x}<br>Total Ocean GDP=%{marker.size}<extra></extra>",
           "hovertext": [
            11.45460762837527,
            10.949613638082509,
            11.075671236752372
           ],
           "legendgroup": "",
           "marker": {
            "color": "#636efa",
            "size": [
             11.45460762837527,
             10.949613638082509,
             11.075671236752372
            ],
            "sizemode": "area",
            "sizeref": 0.11436863721259133,
            "symbol": "circle"
           },
           "mode": "markers",
           "name": "",
           "orientation": "v",
           "showlegend": false,
           "type": "scatter",
           "x": [
            2005,
            2015,
            2021
           ],
           "xaxis": "x",
           "y": [
            11.45460762837527,
            10.949613638082509,
            11.075671236752372
           ],
           "yaxis": "y"
          }
         ],
         "name": "North Carolina"
        },
        {
         "data": [
          {
           "hovertemplate": "<b>%{hovertext}</b><br><br>State=Rhode Island<br>Year=%{x}<br>Total Ocean GDP=%{marker.size}<extra></extra>",
           "hovertext": [
            23.3198114402875,
            33.75363315866039,
            32.52215009048353
           ],
           "legendgroup": "",
           "marker": {
            "color": "#636efa",
            "size": [
             23.3198114402875,
             33.75363315866039,
             32.52215009048353
            ],
            "sizemode": "area",
            "sizeref": 0.11436863721259133,
            "symbol": "circle"
           },
           "mode": "markers",
           "name": "",
           "orientation": "v",
           "showlegend": false,
           "type": "scatter",
           "x": [
            2005,
            2015,
            2021
           ],
           "xaxis": "x",
           "y": [
            23.3198114402875,
            33.75363315866039,
            32.52215009048353
           ],
           "yaxis": "y"
          }
         ],
         "name": "Rhode Island"
        },
        {
         "data": [
          {
           "hovertemplate": "<b>%{hovertext}</b><br><br>State=South Carolina<br>Year=%{x}<br>Total Ocean GDP=%{marker.size}<extra></extra>",
           "hovertext": [
            29.402138094201902,
            27.58991292612531,
            29.407881457364777
           ],
           "legendgroup": "",
           "marker": {
            "color": "#636efa",
            "size": [
             29.402138094201902,
             27.58991292612531,
             29.407881457364777
            ],
            "sizemode": "area",
            "sizeref": 0.11436863721259133,
            "symbol": "circle"
           },
           "mode": "markers",
           "name": "",
           "orientation": "v",
           "showlegend": false,
           "type": "scatter",
           "x": [
            2005,
            2015,
            2021
           ],
           "xaxis": "x",
           "y": [
            29.402138094201902,
            27.58991292612531,
            29.407881457364777
           ],
           "yaxis": "y"
          }
         ],
         "name": "South Carolina"
        },
        {
         "data": [
          {
           "hovertemplate": "<b>%{hovertext}</b><br><br>State=Texas<br>Year=%{x}<br>Total Ocean GDP=%{marker.size}<extra></extra>",
           "hovertext": [
            0.8623966430532668,
            1.1423484494248055,
            1.1367264478543913
           ],
           "legendgroup": "",
           "marker": {
            "color": "#636efa",
            "size": [
             0.8623966430532668,
             1.1423484494248055,
             1.1367264478543913
            ],
            "sizemode": "area",
            "sizeref": 0.11436863721259133,
            "symbol": "circle"
           },
           "mode": "markers",
           "name": "",
           "orientation": "v",
           "showlegend": false,
           "type": "scatter",
           "x": [
            2005,
            2015,
            2021
           ],
           "xaxis": "x",
           "y": [
            0.8623966430532668,
            1.1423484494248055,
            1.1367264478543913
           ],
           "yaxis": "y"
          }
         ],
         "name": "Texas"
        },
        {
         "data": [
          {
           "hovertemplate": "<b>%{hovertext}</b><br><br>State=Virginia<br>Year=%{x}<br>Total Ocean GDP=%{marker.size}<extra></extra>",
           "hovertext": [
            6.356923882652751,
            5.19646773955517,
            4.792890364582448
           ],
           "legendgroup": "",
           "marker": {
            "color": "#636efa",
            "size": [
             6.356923882652751,
             5.19646773955517,
             4.792890364582448
            ],
            "sizemode": "area",
            "sizeref": 0.11436863721259133,
            "symbol": "circle"
           },
           "mode": "markers",
           "name": "",
           "orientation": "v",
           "showlegend": false,
           "type": "scatter",
           "x": [
            2005,
            2015,
            2021
           ],
           "xaxis": "x",
           "y": [
            6.356923882652751,
            5.19646773955517,
            4.792890364582448
           ],
           "yaxis": "y"
          }
         ],
         "name": "Virginia"
        }
       ],
       "layout": {
        "height": 600,
        "legend": {
         "itemsizing": "constant",
         "tracegroupgap": 0
        },
        "margin": {
         "t": 60
        },
        "sliders": [
         {
          "active": 0,
          "currentvalue": {
           "prefix": "State="
          },
          "len": 0.9,
          "pad": {
           "b": 10,
           "t": 60
          },
          "steps": [
           {
            "args": [
             [
              "Alabama"
             ],
             {
              "frame": {
               "duration": 0,
               "redraw": false
              },
              "fromcurrent": true,
              "mode": "immediate",
              "transition": {
               "duration": 0,
               "easing": "linear"
              }
             }
            ],
            "label": "Alabama",
            "method": "animate"
           },
           {
            "args": [
             [
              "Delaware"
             ],
             {
              "frame": {
               "duration": 0,
               "redraw": false
              },
              "fromcurrent": true,
              "mode": "immediate",
              "transition": {
               "duration": 0,
               "easing": "linear"
              }
             }
            ],
            "label": "Delaware",
            "method": "animate"
           },
           {
            "args": [
             [
              "Florida"
             ],
             {
              "frame": {
               "duration": 0,
               "redraw": false
              },
              "fromcurrent": true,
              "mode": "immediate",
              "transition": {
               "duration": 0,
               "easing": "linear"
              }
             }
            ],
            "label": "Florida",
            "method": "animate"
           },
           {
            "args": [
             [
              "Georgia"
             ],
             {
              "frame": {
               "duration": 0,
               "redraw": false
              },
              "fromcurrent": true,
              "mode": "immediate",
              "transition": {
               "duration": 0,
               "easing": "linear"
              }
             }
            ],
            "label": "Georgia",
            "method": "animate"
           },
           {
            "args": [
             [
              "Louisiana"
             ],
             {
              "frame": {
               "duration": 0,
               "redraw": false
              },
              "fromcurrent": true,
              "mode": "immediate",
              "transition": {
               "duration": 0,
               "easing": "linear"
              }
             }
            ],
            "label": "Louisiana",
            "method": "animate"
           },
           {
            "args": [
             [
              "Maine"
             ],
             {
              "frame": {
               "duration": 0,
               "redraw": false
              },
              "fromcurrent": true,
              "mode": "immediate",
              "transition": {
               "duration": 0,
               "easing": "linear"
              }
             }
            ],
            "label": "Maine",
            "method": "animate"
           },
           {
            "args": [
             [
              "Maryland"
             ],
             {
              "frame": {
               "duration": 0,
               "redraw": false
              },
              "fromcurrent": true,
              "mode": "immediate",
              "transition": {
               "duration": 0,
               "easing": "linear"
              }
             }
            ],
            "label": "Maryland",
            "method": "animate"
           },
           {
            "args": [
             [
              "Massachusetts"
             ],
             {
              "frame": {
               "duration": 0,
               "redraw": false
              },
              "fromcurrent": true,
              "mode": "immediate",
              "transition": {
               "duration": 0,
               "easing": "linear"
              }
             }
            ],
            "label": "Massachusetts",
            "method": "animate"
           },
           {
            "args": [
             [
              "Mississippi"
             ],
             {
              "frame": {
               "duration": 0,
               "redraw": false
              },
              "fromcurrent": true,
              "mode": "immediate",
              "transition": {
               "duration": 0,
               "easing": "linear"
              }
             }
            ],
            "label": "Mississippi",
            "method": "animate"
           },
           {
            "args": [
             [
              "New Jersey"
             ],
             {
              "frame": {
               "duration": 0,
               "redraw": false
              },
              "fromcurrent": true,
              "mode": "immediate",
              "transition": {
               "duration": 0,
               "easing": "linear"
              }
             }
            ],
            "label": "New Jersey",
            "method": "animate"
           },
           {
            "args": [
             [
              "New York"
             ],
             {
              "frame": {
               "duration": 0,
               "redraw": false
              },
              "fromcurrent": true,
              "mode": "immediate",
              "transition": {
               "duration": 0,
               "easing": "linear"
              }
             }
            ],
            "label": "New York",
            "method": "animate"
           },
           {
            "args": [
             [
              "North Carolina"
             ],
             {
              "frame": {
               "duration": 0,
               "redraw": false
              },
              "fromcurrent": true,
              "mode": "immediate",
              "transition": {
               "duration": 0,
               "easing": "linear"
              }
             }
            ],
            "label": "North Carolina",
            "method": "animate"
           },
           {
            "args": [
             [
              "Rhode Island"
             ],
             {
              "frame": {
               "duration": 0,
               "redraw": false
              },
              "fromcurrent": true,
              "mode": "immediate",
              "transition": {
               "duration": 0,
               "easing": "linear"
              }
             }
            ],
            "label": "Rhode Island",
            "method": "animate"
           },
           {
            "args": [
             [
              "South Carolina"
             ],
             {
              "frame": {
               "duration": 0,
               "redraw": false
              },
              "fromcurrent": true,
              "mode": "immediate",
              "transition": {
               "duration": 0,
               "easing": "linear"
              }
             }
            ],
            "label": "South Carolina",
            "method": "animate"
           },
           {
            "args": [
             [
              "Texas"
             ],
             {
              "frame": {
               "duration": 0,
               "redraw": false
              },
              "fromcurrent": true,
              "mode": "immediate",
              "transition": {
               "duration": 0,
               "easing": "linear"
              }
             }
            ],
            "label": "Texas",
            "method": "animate"
           },
           {
            "args": [
             [
              "Virginia"
             ],
             {
              "frame": {
               "duration": 0,
               "redraw": false
              },
              "fromcurrent": true,
              "mode": "immediate",
              "transition": {
               "duration": 0,
               "easing": "linear"
              }
             }
            ],
            "label": "Virginia",
            "method": "animate"
           }
          ],
          "x": 0.1,
          "xanchor": "left",
          "y": 0,
          "yanchor": "top"
         }
        ],
        "template": {
         "data": {
          "bar": [
           {
            "error_x": {
             "color": "#2a3f5f"
            },
            "error_y": {
             "color": "#2a3f5f"
            },
            "marker": {
             "line": {
              "color": "#E5ECF6",
              "width": 0.5
             },
             "pattern": {
              "fillmode": "overlay",
              "size": 10,
              "solidity": 0.2
             }
            },
            "type": "bar"
           }
          ],
          "barpolar": [
           {
            "marker": {
             "line": {
              "color": "#E5ECF6",
              "width": 0.5
             },
             "pattern": {
              "fillmode": "overlay",
              "size": 10,
              "solidity": 0.2
             }
            },
            "type": "barpolar"
           }
          ],
          "carpet": [
           {
            "aaxis": {
             "endlinecolor": "#2a3f5f",
             "gridcolor": "white",
             "linecolor": "white",
             "minorgridcolor": "white",
             "startlinecolor": "#2a3f5f"
            },
            "baxis": {
             "endlinecolor": "#2a3f5f",
             "gridcolor": "white",
             "linecolor": "white",
             "minorgridcolor": "white",
             "startlinecolor": "#2a3f5f"
            },
            "type": "carpet"
           }
          ],
          "choropleth": [
           {
            "colorbar": {
             "outlinewidth": 0,
             "ticks": ""
            },
            "type": "choropleth"
           }
          ],
          "contour": [
           {
            "colorbar": {
             "outlinewidth": 0,
             "ticks": ""
            },
            "colorscale": [
             [
              0,
              "#0d0887"
             ],
             [
              0.1111111111111111,
              "#46039f"
             ],
             [
              0.2222222222222222,
              "#7201a8"
             ],
             [
              0.3333333333333333,
              "#9c179e"
             ],
             [
              0.4444444444444444,
              "#bd3786"
             ],
             [
              0.5555555555555556,
              "#d8576b"
             ],
             [
              0.6666666666666666,
              "#ed7953"
             ],
             [
              0.7777777777777778,
              "#fb9f3a"
             ],
             [
              0.8888888888888888,
              "#fdca26"
             ],
             [
              1,
              "#f0f921"
             ]
            ],
            "type": "contour"
           }
          ],
          "contourcarpet": [
           {
            "colorbar": {
             "outlinewidth": 0,
             "ticks": ""
            },
            "type": "contourcarpet"
           }
          ],
          "heatmap": [
           {
            "colorbar": {
             "outlinewidth": 0,
             "ticks": ""
            },
            "colorscale": [
             [
              0,
              "#0d0887"
             ],
             [
              0.1111111111111111,
              "#46039f"
             ],
             [
              0.2222222222222222,
              "#7201a8"
             ],
             [
              0.3333333333333333,
              "#9c179e"
             ],
             [
              0.4444444444444444,
              "#bd3786"
             ],
             [
              0.5555555555555556,
              "#d8576b"
             ],
             [
              0.6666666666666666,
              "#ed7953"
             ],
             [
              0.7777777777777778,
              "#fb9f3a"
             ],
             [
              0.8888888888888888,
              "#fdca26"
             ],
             [
              1,
              "#f0f921"
             ]
            ],
            "type": "heatmap"
           }
          ],
          "heatmapgl": [
           {
            "colorbar": {
             "outlinewidth": 0,
             "ticks": ""
            },
            "colorscale": [
             [
              0,
              "#0d0887"
             ],
             [
              0.1111111111111111,
              "#46039f"
             ],
             [
              0.2222222222222222,
              "#7201a8"
             ],
             [
              0.3333333333333333,
              "#9c179e"
             ],
             [
              0.4444444444444444,
              "#bd3786"
             ],
             [
              0.5555555555555556,
              "#d8576b"
             ],
             [
              0.6666666666666666,
              "#ed7953"
             ],
             [
              0.7777777777777778,
              "#fb9f3a"
             ],
             [
              0.8888888888888888,
              "#fdca26"
             ],
             [
              1,
              "#f0f921"
             ]
            ],
            "type": "heatmapgl"
           }
          ],
          "histogram": [
           {
            "marker": {
             "pattern": {
              "fillmode": "overlay",
              "size": 10,
              "solidity": 0.2
             }
            },
            "type": "histogram"
           }
          ],
          "histogram2d": [
           {
            "colorbar": {
             "outlinewidth": 0,
             "ticks": ""
            },
            "colorscale": [
             [
              0,
              "#0d0887"
             ],
             [
              0.1111111111111111,
              "#46039f"
             ],
             [
              0.2222222222222222,
              "#7201a8"
             ],
             [
              0.3333333333333333,
              "#9c179e"
             ],
             [
              0.4444444444444444,
              "#bd3786"
             ],
             [
              0.5555555555555556,
              "#d8576b"
             ],
             [
              0.6666666666666666,
              "#ed7953"
             ],
             [
              0.7777777777777778,
              "#fb9f3a"
             ],
             [
              0.8888888888888888,
              "#fdca26"
             ],
             [
              1,
              "#f0f921"
             ]
            ],
            "type": "histogram2d"
           }
          ],
          "histogram2dcontour": [
           {
            "colorbar": {
             "outlinewidth": 0,
             "ticks": ""
            },
            "colorscale": [
             [
              0,
              "#0d0887"
             ],
             [
              0.1111111111111111,
              "#46039f"
             ],
             [
              0.2222222222222222,
              "#7201a8"
             ],
             [
              0.3333333333333333,
              "#9c179e"
             ],
             [
              0.4444444444444444,
              "#bd3786"
             ],
             [
              0.5555555555555556,
              "#d8576b"
             ],
             [
              0.6666666666666666,
              "#ed7953"
             ],
             [
              0.7777777777777778,
              "#fb9f3a"
             ],
             [
              0.8888888888888888,
              "#fdca26"
             ],
             [
              1,
              "#f0f921"
             ]
            ],
            "type": "histogram2dcontour"
           }
          ],
          "mesh3d": [
           {
            "colorbar": {
             "outlinewidth": 0,
             "ticks": ""
            },
            "type": "mesh3d"
           }
          ],
          "parcoords": [
           {
            "line": {
             "colorbar": {
              "outlinewidth": 0,
              "ticks": ""
             }
            },
            "type": "parcoords"
           }
          ],
          "pie": [
           {
            "automargin": true,
            "type": "pie"
           }
          ],
          "scatter": [
           {
            "fillpattern": {
             "fillmode": "overlay",
             "size": 10,
             "solidity": 0.2
            },
            "type": "scatter"
           }
          ],
          "scatter3d": [
           {
            "line": {
             "colorbar": {
              "outlinewidth": 0,
              "ticks": ""
             }
            },
            "marker": {
             "colorbar": {
              "outlinewidth": 0,
              "ticks": ""
             }
            },
            "type": "scatter3d"
           }
          ],
          "scattercarpet": [
           {
            "marker": {
             "colorbar": {
              "outlinewidth": 0,
              "ticks": ""
             }
            },
            "type": "scattercarpet"
           }
          ],
          "scattergeo": [
           {
            "marker": {
             "colorbar": {
              "outlinewidth": 0,
              "ticks": ""
             }
            },
            "type": "scattergeo"
           }
          ],
          "scattergl": [
           {
            "marker": {
             "colorbar": {
              "outlinewidth": 0,
              "ticks": ""
             }
            },
            "type": "scattergl"
           }
          ],
          "scattermapbox": [
           {
            "marker": {
             "colorbar": {
              "outlinewidth": 0,
              "ticks": ""
             }
            },
            "type": "scattermapbox"
           }
          ],
          "scatterpolar": [
           {
            "marker": {
             "colorbar": {
              "outlinewidth": 0,
              "ticks": ""
             }
            },
            "type": "scatterpolar"
           }
          ],
          "scatterpolargl": [
           {
            "marker": {
             "colorbar": {
              "outlinewidth": 0,
              "ticks": ""
             }
            },
            "type": "scatterpolargl"
           }
          ],
          "scatterternary": [
           {
            "marker": {
             "colorbar": {
              "outlinewidth": 0,
              "ticks": ""
             }
            },
            "type": "scatterternary"
           }
          ],
          "surface": [
           {
            "colorbar": {
             "outlinewidth": 0,
             "ticks": ""
            },
            "colorscale": [
             [
              0,
              "#0d0887"
             ],
             [
              0.1111111111111111,
              "#46039f"
             ],
             [
              0.2222222222222222,
              "#7201a8"
             ],
             [
              0.3333333333333333,
              "#9c179e"
             ],
             [
              0.4444444444444444,
              "#bd3786"
             ],
             [
              0.5555555555555556,
              "#d8576b"
             ],
             [
              0.6666666666666666,
              "#ed7953"
             ],
             [
              0.7777777777777778,
              "#fb9f3a"
             ],
             [
              0.8888888888888888,
              "#fdca26"
             ],
             [
              1,
              "#f0f921"
             ]
            ],
            "type": "surface"
           }
          ],
          "table": [
           {
            "cells": {
             "fill": {
              "color": "#EBF0F8"
             },
             "line": {
              "color": "white"
             }
            },
            "header": {
             "fill": {
              "color": "#C8D4E3"
             },
             "line": {
              "color": "white"
             }
            },
            "type": "table"
           }
          ]
         },
         "layout": {
          "annotationdefaults": {
           "arrowcolor": "#2a3f5f",
           "arrowhead": 0,
           "arrowwidth": 1
          },
          "autotypenumbers": "strict",
          "coloraxis": {
           "colorbar": {
            "outlinewidth": 0,
            "ticks": ""
           }
          },
          "colorscale": {
           "diverging": [
            [
             0,
             "#8e0152"
            ],
            [
             0.1,
             "#c51b7d"
            ],
            [
             0.2,
             "#de77ae"
            ],
            [
             0.3,
             "#f1b6da"
            ],
            [
             0.4,
             "#fde0ef"
            ],
            [
             0.5,
             "#f7f7f7"
            ],
            [
             0.6,
             "#e6f5d0"
            ],
            [
             0.7,
             "#b8e186"
            ],
            [
             0.8,
             "#7fbc41"
            ],
            [
             0.9,
             "#4d9221"
            ],
            [
             1,
             "#276419"
            ]
           ],
           "sequential": [
            [
             0,
             "#0d0887"
            ],
            [
             0.1111111111111111,
             "#46039f"
            ],
            [
             0.2222222222222222,
             "#7201a8"
            ],
            [
             0.3333333333333333,
             "#9c179e"
            ],
            [
             0.4444444444444444,
             "#bd3786"
            ],
            [
             0.5555555555555556,
             "#d8576b"
            ],
            [
             0.6666666666666666,
             "#ed7953"
            ],
            [
             0.7777777777777778,
             "#fb9f3a"
            ],
            [
             0.8888888888888888,
             "#fdca26"
            ],
            [
             1,
             "#f0f921"
            ]
           ],
           "sequentialminus": [
            [
             0,
             "#0d0887"
            ],
            [
             0.1111111111111111,
             "#46039f"
            ],
            [
             0.2222222222222222,
             "#7201a8"
            ],
            [
             0.3333333333333333,
             "#9c179e"
            ],
            [
             0.4444444444444444,
             "#bd3786"
            ],
            [
             0.5555555555555556,
             "#d8576b"
            ],
            [
             0.6666666666666666,
             "#ed7953"
            ],
            [
             0.7777777777777778,
             "#fb9f3a"
            ],
            [
             0.8888888888888888,
             "#fdca26"
            ],
            [
             1,
             "#f0f921"
            ]
           ]
          },
          "colorway": [
           "#636efa",
           "#EF553B",
           "#00cc96",
           "#ab63fa",
           "#FFA15A",
           "#19d3f3",
           "#FF6692",
           "#B6E880",
           "#FF97FF",
           "#FECB52"
          ],
          "font": {
           "color": "#2a3f5f"
          },
          "geo": {
           "bgcolor": "white",
           "lakecolor": "white",
           "landcolor": "#E5ECF6",
           "showlakes": true,
           "showland": true,
           "subunitcolor": "white"
          },
          "hoverlabel": {
           "align": "left"
          },
          "hovermode": "closest",
          "mapbox": {
           "style": "light"
          },
          "paper_bgcolor": "white",
          "plot_bgcolor": "#E5ECF6",
          "polar": {
           "angularaxis": {
            "gridcolor": "white",
            "linecolor": "white",
            "ticks": ""
           },
           "bgcolor": "#E5ECF6",
           "radialaxis": {
            "gridcolor": "white",
            "linecolor": "white",
            "ticks": ""
           }
          },
          "scene": {
           "xaxis": {
            "backgroundcolor": "#E5ECF6",
            "gridcolor": "white",
            "gridwidth": 2,
            "linecolor": "white",
            "showbackground": true,
            "ticks": "",
            "zerolinecolor": "white"
           },
           "yaxis": {
            "backgroundcolor": "#E5ECF6",
            "gridcolor": "white",
            "gridwidth": 2,
            "linecolor": "white",
            "showbackground": true,
            "ticks": "",
            "zerolinecolor": "white"
           },
           "zaxis": {
            "backgroundcolor": "#E5ECF6",
            "gridcolor": "white",
            "gridwidth": 2,
            "linecolor": "white",
            "showbackground": true,
            "ticks": "",
            "zerolinecolor": "white"
           }
          },
          "shapedefaults": {
           "line": {
            "color": "#2a3f5f"
           }
          },
          "ternary": {
           "aaxis": {
            "gridcolor": "white",
            "linecolor": "white",
            "ticks": ""
           },
           "baxis": {
            "gridcolor": "white",
            "linecolor": "white",
            "ticks": ""
           },
           "bgcolor": "#E5ECF6",
           "caxis": {
            "gridcolor": "white",
            "linecolor": "white",
            "ticks": ""
           }
          },
          "title": {
           "x": 0.05
          },
          "xaxis": {
           "automargin": true,
           "gridcolor": "white",
           "linecolor": "white",
           "ticks": "",
           "title": {
            "standoff": 15
           },
           "zerolinecolor": "white",
           "zerolinewidth": 2
          },
          "yaxis": {
           "automargin": true,
           "gridcolor": "white",
           "linecolor": "white",
           "ticks": "",
           "title": {
            "standoff": 15
           },
           "zerolinecolor": "white",
           "zerolinewidth": 2
          }
         }
        },
        "updatemenus": [
         {
          "buttons": [
           {
            "args": [
             null,
             {
              "frame": {
               "duration": 500,
               "redraw": false
              },
              "fromcurrent": true,
              "mode": "immediate",
              "transition": {
               "duration": 500,
               "easing": "linear"
              }
             }
            ],
            "label": "&#9654;",
            "method": "animate"
           },
           {
            "args": [
             [
              null
             ],
             {
              "frame": {
               "duration": 0,
               "redraw": false
              },
              "fromcurrent": true,
              "mode": "immediate",
              "transition": {
               "duration": 0,
               "easing": "linear"
              }
             }
            ],
            "label": "&#9724;",
            "method": "animate"
           }
          ],
          "direction": "left",
          "pad": {
           "r": 10,
           "t": 70
          },
          "showactive": false,
          "type": "buttons",
          "x": 0.1,
          "xanchor": "right",
          "y": 0,
          "yanchor": "top"
         }
        ],
        "width": 800,
        "xaxis": {
         "anchor": "y",
         "domain": [
          0,
          1
         ],
         "range": [
          2004.5,
          2021.5
         ],
         "tickangle": 45,
         "tickmode": "array",
         "ticktext": [
          2005,
          2015,
          2021
         ],
         "tickvals": [
          2005,
          2015,
          2021
         ],
         "title": {
          "text": "Year"
         },
         "type": "linear"
        },
        "yaxis": {
         "anchor": "x",
         "domain": [
          0,
          1
         ],
         "range": [
          0,
          46.74745488503653
         ],
         "title": {
          "text": "Total Ocean GDP"
         },
         "type": "linear"
        }
       }
      },
      "image/png": "[encoded data removed]",
      "text/html": [
       "<div>                            <div id=\"a8f8f90f-8db2-4886-9123-532772a07059\" class=\"plotly-graph-div\" style=\"height:600px; width:800px;\"></div>            <script type=\"text/javascript\">                require([\"plotly\"], function(Plotly) {                    window.PLOTLYENV=window.PLOTLYENV || {};                                    if (document.getElementById(\"a8f8f90f-8db2-4886-9123-532772a07059\")) {                    Plotly.newPlot(                        \"a8f8f90f-8db2-4886-9123-532772a07059\",                        [{\"hovertemplate\":\"\\u003cb\\u003e%{hovertext}\\u003c\\u002fb\\u003e\\u003cbr\\u003e\\u003cbr\\u003eState=Alabama\\u003cbr\\u003eYear=%{x}\\u003cbr\\u003eTotal Ocean GDP=%{marker.size}\\u003cextra\\u003e\\u003c\\u002fextra\\u003e\",\"hovertext\":[42.068312301726806,44.57310192057757,45.47873299859467],\"legendgroup\":\"\",\"marker\":{\"color\":\"#636efa\",\"size\":[42.068312301726806,44.57310192057757,45.47873299859467],\"sizemode\":\"area\",\"sizeref\":0.11436863721259133,\"symbol\":\"circle\"},\"mode\":\"markers\",\"name\":\"\",\"orientation\":\"v\",\"showlegend\":false,\"x\":[2005,2015,2021],\"xaxis\":\"x\",\"y\":[42.068312301726806,44.57310192057757,45.47873299859467],\"yaxis\":\"y\",\"type\":\"scatter\"}],                        {\"template\":{\"data\":{\"histogram2dcontour\":[{\"type\":\"histogram2dcontour\",\"colorbar\":{\"outlinewidth\":0,\"ticks\":\"\"},\"colorscale\":[[0.0,\"#0d0887\"],[0.1111111111111111,\"#46039f\"],[0.2222222222222222,\"#7201a8\"],[0.3333333333333333,\"#9c179e\"],[0.4444444444444444,\"#bd3786\"],[0.5555555555555556,\"#d8576b\"],[0.6666666666666666,\"#ed7953\"],[0.7777777777777778,\"#fb9f3a\"],[0.8888888888888888,\"#fdca26\"],[1.0,\"#f0f921\"]]}],\"choropleth\":[{\"type\":\"choropleth\",\"colorbar\":{\"outlinewidth\":0,\"ticks\":\"\"}}],\"histogram2d\":[{\"type\":\"histogram2d\",\"colorbar\":{\"outlinewidth\":0,\"ticks\":\"\"},\"colorscale\":[[0.0,\"#0d0887\"],[0.1111111111111111,\"#46039f\"],[0.2222222222222222,\"#7201a8\"],[0.3333333333333333,\"#9c179e\"],[0.4444444444444444,\"#bd3786\"],[0.5555555555555556,\"#d8576b\"],[0.6666666666666666,\"#ed7953\"],[0.7777777777777778,\"#fb9f3a\"],[0.8888888888888888,\"#fdca26\"],[1.0,\"#f0f921\"]]}],\"heatmap\":[{\"type\":\"heatmap\",\"colorbar\":{\"outlinewidth\":0,\"ticks\":\"\"},\"colorscale\":[[0.0,\"#0d0887\"],[0.1111111111111111,\"#46039f\"],[0.2222222222222222,\"#7201a8\"],[0.3333333333333333,\"#9c179e\"],[0.4444444444444444,\"#bd3786\"],[0.5555555555555556,\"#d8576b\"],[0.6666666666666666,\"#ed7953\"],[0.7777777777777778,\"#fb9f3a\"],[0.8888888888888888,\"#fdca26\"],[1.0,\"#f0f921\"]]}],\"heatmapgl\":[{\"type\":\"heatmapgl\",\"colorbar\":{\"outlinewidth\":0,\"ticks\":\"\"},\"colorscale\":[[0.0,\"#0d0887\"],[0.1111111111111111,\"#46039f\"],[0.2222222222222222,\"#7201a8\"],[0.3333333333333333,\"#9c179e\"],[0.4444444444444444,\"#bd3786\"],[0.5555555555555556,\"#d8576b\"],[0.6666666666666666,\"#ed7953\"],[0.7777777777777778,\"#fb9f3a\"],[0.8888888888888888,\"#fdca26\"],[1.0,\"#f0f921\"]]}],\"contourcarpet\":[{\"type\":\"contourcarpet\",\"colorbar\":{\"outlinewidth\":0,\"ticks\":\"\"}}],\"contour\":[{\"type\":\"contour\",\"colorbar\":{\"outlinewidth\":0,\"ticks\":\"\"},\"colorscale\":[[0.0,\"#0d0887\"],[0.1111111111111111,\"#46039f\"],[0.2222222222222222,\"#7201a8\"],[0.3333333333333333,\"#9c179e\"],[0.4444444444444444,\"#bd3786\"],[0.5555555555555556,\"#d8576b\"],[0.6666666666666666,\"#ed7953\"],[0.7777777777777778,\"#fb9f3a\"],[0.8888888888888888,\"#fdca26\"],[1.0,\"#f0f921\"]]}],\"surface\":[{\"type\":\"surface\",\"colorbar\":{\"outlinewidth\":0,\"ticks\":\"\"},\"colorscale\":[[0.0,\"#0d0887\"],[0.1111111111111111,\"#46039f\"],[0.2222222222222222,\"#7201a8\"],[0.3333333333333333,\"#9c179e\"],[0.4444444444444444,\"#bd3786\"],[0.5555555555555556,\"#d8576b\"],[0.6666666666666666,\"#ed7953\"],[0.7777777777777778,\"#fb9f3a\"],[0.8888888888888888,\"#fdca26\"],[1.0,\"#f0f921\"]]}],\"mesh3d\":[{\"type\":\"mesh3d\",\"colorbar\":{\"outlinewidth\":0,\"ticks\":\"\"}}],\"scatter\":[{\"fillpattern\":{\"fillmode\":\"overlay\",\"size\":10,\"solidity\":0.2},\"type\":\"scatter\"}],\"parcoords\":[{\"type\":\"parcoords\",\"line\":{\"colorbar\":{\"outlinewidth\":0,\"ticks\":\"\"}}}],\"scatterpolargl\":[{\"type\":\"scatterpolargl\",\"marker\":{\"colorbar\":{\"outlinewidth\":0,\"ticks\":\"\"}}}],\"bar\":[{\"error_x\":{\"color\":\"#2a3f5f\"},\"error_y\":{\"color\":\"#2a3f5f\"},\"marker\":{\"line\":{\"color\":\"#E5ECF6\",\"width\":0.5},\"pattern\":{\"fillmode\":\"overlay\",\"size\":10,\"solidity\":0.2}},\"type\":\"bar\"}],\"scattergeo\":[{\"type\":\"scattergeo\",\"marker\":{\"colorbar\":{\"outlinewidth\":0,\"ticks\":\"\"}}}],\"scatterpolar\":[{\"type\":\"scatterpolar\",\"marker\":{\"colorbar\":{\"outlinewidth\":0,\"ticks\":\"\"}}}],\"histogram\":[{\"marker\":{\"pattern\":{\"fillmode\":\"overlay\",\"size\":10,\"solidity\":0.2}},\"type\":\"histogram\"}],\"scattergl\":[{\"type\":\"scattergl\",\"marker\":{\"colorbar\":{\"outlinewidth\":0,\"ticks\":\"\"}}}],\"scatter3d\":[{\"type\":\"scatter3d\",\"line\":{\"colorbar\":{\"outlinewidth\":0,\"ticks\":\"\"}},\"marker\":{\"colorbar\":{\"outlinewidth\":0,\"ticks\":\"\"}}}],\"scattermapbox\":[{\"type\":\"scattermapbox\",\"marker\":{\"colorbar\":{\"outlinewidth\":0,\"ticks\":\"\"}}}],\"scatterternary\":[{\"type\":\"scatterternary\",\"marker\":{\"colorbar\":{\"outlinewidth\":0,\"ticks\":\"\"}}}],\"scattercarpet\":[{\"type\":\"scattercarpet\",\"marker\":{\"colorbar\":{\"outlinewidth\":0,\"ticks\":\"\"}}}],\"carpet\":[{\"aaxis\":{\"endlinecolor\":\"#2a3f5f\",\"gridcolor\":\"white\",\"linecolor\":\"white\",\"minorgridcolor\":\"white\",\"startlinecolor\":\"#2a3f5f\"},\"baxis\":{\"endlinecolor\":\"#2a3f5f\",\"gridcolor\":\"white\",\"linecolor\":\"white\",\"minorgridcolor\":\"white\",\"startlinecolor\":\"#2a3f5f\"},\"type\":\"carpet\"}],\"table\":[{\"cells\":{\"fill\":{\"color\":\"#EBF0F8\"},\"line\":{\"color\":\"white\"}},\"header\":{\"fill\":{\"color\":\"#C8D4E3\"},\"line\":{\"color\":\"white\"}},\"type\":\"table\"}],\"barpolar\":[{\"marker\":{\"line\":{\"color\":\"#E5ECF6\",\"width\":0.5},\"pattern\":{\"fillmode\":\"overlay\",\"size\":10,\"solidity\":0.2}},\"type\":\"barpolar\"}],\"pie\":[{\"automargin\":true,\"type\":\"pie\"}]},\"layout\":{\"autotypenumbers\":\"strict\",\"colorway\":[\"#636efa\",\"#EF553B\",\"#00cc96\",\"#ab63fa\",\"#FFA15A\",\"#19d3f3\",\"#FF6692\",\"#B6E880\",\"#FF97FF\",\"#FECB52\"],\"font\":{\"color\":\"#2a3f5f\"},\"hovermode\":\"closest\",\"hoverlabel\":{\"align\":\"left\"},\"paper_bgcolor\":\"white\",\"plot_bgcolor\":\"#E5ECF6\",\"polar\":{\"bgcolor\":\"#E5ECF6\",\"angularaxis\":{\"gridcolor\":\"white\",\"linecolor\":\"white\",\"ticks\":\"\"},\"radialaxis\":{\"gridcolor\":\"white\",\"linecolor\":\"white\",\"ticks\":\"\"}},\"ternary\":{\"bgcolor\":\"#E5ECF6\",\"aaxis\":{\"gridcolor\":\"white\",\"linecolor\":\"white\",\"ticks\":\"\"},\"baxis\":{\"gridcolor\":\"white\",\"linecolor\":\"white\",\"ticks\":\"\"},\"caxis\":{\"gridcolor\":\"white\",\"linecolor\":\"white\",\"ticks\":\"\"}},\"coloraxis\":{\"colorbar\":{\"outlinewidth\":0,\"ticks\":\"\"}},\"colorscale\":{\"sequential\":[[0.0,\"#0d0887\"],[0.1111111111111111,\"#46039f\"],[0.2222222222222222,\"#7201a8\"],[0.3333333333333333,\"#9c179e\"],[0.4444444444444444,\"#bd3786\"],[0.5555555555555556,\"#d8576b\"],[0.6666666666666666,\"#ed7953\"],[0.7777777777777778,\"#fb9f3a\"],[0.8888888888888888,\"#fdca26\"],[1.0,\"#f0f921\"]],\"sequentialminus\":[[0.0,\"#0d0887\"],[0.1111111111111111,\"#46039f\"],[0.2222222222222222,\"#7201a8\"],[0.3333333333333333,\"#9c179e\"],[0.4444444444444444,\"#bd3786\"],[0.5555555555555556,\"#d8576b\"],[0.6666666666666666,\"#ed7953\"],[0.7777777777777778,\"#fb9f3a\"],[0.8888888888888888,\"#fdca26\"],[1.0,\"#f0f921\"]],\"diverging\":[[0,\"#8e0152\"],[0.1,\"#c51b7d\"],[0.2,\"#de77ae\"],[0.3,\"#f1b6da\"],[0.4,\"#fde0ef\"],[0.5,\"#f7f7f7\"],[0.6,\"#e6f5d0\"],[0.7,\"#b8e186\"],[0.8,\"#7fbc41\"],[0.9,\"#4d9221\"],[1,\"#276419\"]]},\"xaxis\":{\"gridcolor\":\"white\",\"linecolor\":\"white\",\"ticks\":\"\",\"title\":{\"standoff\":15},\"zerolinecolor\":\"white\",\"automargin\":true,\"zerolinewidth\":2},\"yaxis\":{\"gridcolor\":\"white\",\"linecolor\":\"white\",\"ticks\":\"\",\"title\":{\"standoff\":15},\"zerolinecolor\":\"white\",\"automargin\":true,\"zerolinewidth\":2},\"scene\":{\"xaxis\":{\"backgroundcolor\":\"#E5ECF6\",\"gridcolor\":\"white\",\"linecolor\":\"white\",\"showbackground\":true,\"ticks\":\"\",\"zerolinecolor\":\"white\",\"gridwidth\":2},\"yaxis\":{\"backgroundcolor\":\"#E5ECF6\",\"gridcolor\":\"white\",\"linecolor\":\"white\",\"showbackground\":true,\"ticks\":\"\",\"zerolinecolor\":\"white\",\"gridwidth\":2},\"zaxis\":{\"backgroundcolor\":\"#E5ECF6\",\"gridcolor\":\"white\",\"linecolor\":\"white\",\"showbackground\":true,\"ticks\":\"\",\"zerolinecolor\":\"white\",\"gridwidth\":2}},\"shapedefaults\":{\"line\":{\"color\":\"#2a3f5f\"}},\"annotationdefaults\":{\"arrowcolor\":\"#2a3f5f\",\"arrowhead\":0,\"arrowwidth\":1},\"geo\":{\"bgcolor\":\"white\",\"landcolor\":\"#E5ECF6\",\"subunitcolor\":\"white\",\"showland\":true,\"showlakes\":true,\"lakecolor\":\"white\"},\"title\":{\"x\":0.05},\"mapbox\":{\"style\":\"light\"}}},\"xaxis\":{\"anchor\":\"y\",\"domain\":[0.0,1.0],\"title\":{\"text\":\"Year\"},\"range\":[2004.5,2021.5],\"tickmode\":\"array\",\"tickvals\":[2005,2015,2021],\"ticktext\":[2005,2015,2021],\"tickangle\":45},\"yaxis\":{\"anchor\":\"x\",\"domain\":[0.0,1.0],\"title\":{\"text\":\"Total Ocean GDP\"},\"range\":[0,46.74745488503653]},\"legend\":{\"tracegroupgap\":0,\"itemsizing\":\"constant\"},\"margin\":{\"t\":60},\"height\":600,\"width\":800,\"updatemenus\":[{\"buttons\":[{\"args\":[null,{\"frame\":{\"duration\":500,\"redraw\":false},\"mode\":\"immediate\",\"fromcurrent\":true,\"transition\":{\"duration\":500,\"easing\":\"linear\"}}],\"label\":\"&#9654;\",\"method\":\"animate\"},{\"args\":[[null],{\"frame\":{\"duration\":0,\"redraw\":false},\"mode\":\"immediate\",\"fromcurrent\":true,\"transition\":{\"duration\":0,\"easing\":\"linear\"}}],\"label\":\"&#9724;\",\"method\":\"animate\"}],\"direction\":\"left\",\"pad\":{\"r\":10,\"t\":70},\"showactive\":false,\"type\":\"buttons\",\"x\":0.1,\"xanchor\":\"right\",\"y\":0,\"yanchor\":\"top\"}],\"sliders\":[{\"active\":0,\"currentvalue\":{\"prefix\":\"State=\"},\"len\":0.9,\"pad\":{\"b\":10,\"t\":60},\"steps\":[{\"args\":[[\"Alabama\"],{\"frame\":{\"duration\":0,\"redraw\":false},\"mode\":\"immediate\",\"fromcurrent\":true,\"transition\":{\"duration\":0,\"easing\":\"linear\"}}],\"label\":\"Alabama\",\"method\":\"animate\"},{\"args\":[[\"Delaware\"],{\"frame\":{\"duration\":0,\"redraw\":false},\"mode\":\"immediate\",\"fromcurrent\":true,\"transition\":{\"duration\":0,\"easing\":\"linear\"}}],\"label\":\"Delaware\",\"method\":\"animate\"},{\"args\":[[\"Florida\"],{\"frame\":{\"duration\":0,\"redraw\":false},\"mode\":\"immediate\",\"fromcurrent\":true,\"transition\":{\"duration\":0,\"easing\":\"linear\"}}],\"label\":\"Florida\",\"method\":\"animate\"},{\"args\":[[\"Georgia\"],{\"frame\":{\"duration\":0,\"redraw\":false},\"mode\":\"immediate\",\"fromcurrent\":true,\"transition\":{\"duration\":0,\"easing\":\"linear\"}}],\"label\":\"Georgia\",\"method\":\"animate\"},{\"args\":[[\"Louisiana\"],{\"frame\":{\"duration\":0,\"redraw\":false},\"mode\":\"immediate\",\"fromcurrent\":true,\"transition\":{\"duration\":0,\"easing\":\"linear\"}}],\"label\":\"Louisiana\",\"method\":\"animate\"},{\"args\":[[\"Maine\"],{\"frame\":{\"duration\":0,\"redraw\":false},\"mode\":\"immediate\",\"fromcurrent\":true,\"transition\":{\"duration\":0,\"easing\":\"linear\"}}],\"label\":\"Maine\",\"method\":\"animate\"},{\"args\":[[\"Maryland\"],{\"frame\":{\"duration\":0,\"redraw\":false},\"mode\":\"immediate\",\"fromcurrent\":true,\"transition\":{\"duration\":0,\"easing\":\"linear\"}}],\"label\":\"Maryland\",\"method\":\"animate\"},{\"args\":[[\"Massachusetts\"],{\"frame\":{\"duration\":0,\"redraw\":false},\"mode\":\"immediate\",\"fromcurrent\":true,\"transition\":{\"duration\":0,\"easing\":\"linear\"}}],\"label\":\"Massachusetts\",\"method\":\"animate\"},{\"args\":[[\"Mississippi\"],{\"frame\":{\"duration\":0,\"redraw\":false},\"mode\":\"immediate\",\"fromcurrent\":true,\"transition\":{\"duration\":0,\"easing\":\"linear\"}}],\"label\":\"Mississippi\",\"method\":\"animate\"},{\"args\":[[\"New Jersey\"],{\"frame\":{\"duration\":0,\"redraw\":false},\"mode\":\"immediate\",\"fromcurrent\":true,\"transition\":{\"duration\":0,\"easing\":\"linear\"}}],\"label\":\"New Jersey\",\"method\":\"animate\"},{\"args\":[[\"New York\"],{\"frame\":{\"duration\":0,\"redraw\":false},\"mode\":\"immediate\",\"fromcurrent\":true,\"transition\":{\"duration\":0,\"easing\":\"linear\"}}],\"label\":\"New York\",\"method\":\"animate\"},{\"args\":[[\"North Carolina\"],{\"frame\":{\"duration\":0,\"redraw\":false},\"mode\":\"immediate\",\"fromcurrent\":true,\"transition\":{\"duration\":0,\"easing\":\"linear\"}}],\"label\":\"North Carolina\",\"method\":\"animate\"},{\"args\":[[\"Rhode Island\"],{\"frame\":{\"duration\":0,\"redraw\":false},\"mode\":\"immediate\",\"fromcurrent\":true,\"transition\":{\"duration\":0,\"easing\":\"linear\"}}],\"label\":\"Rhode Island\",\"method\":\"animate\"},{\"args\":[[\"South Carolina\"],{\"frame\":{\"duration\":0,\"redraw\":false},\"mode\":\"immediate\",\"fromcurrent\":true,\"transition\":{\"duration\":0,\"easing\":\"linear\"}}],\"label\":\"South Carolina\",\"method\":\"animate\"},{\"args\":[[\"Texas\"],{\"frame\":{\"duration\":0,\"redraw\":false},\"mode\":\"immediate\",\"fromcurrent\":true,\"transition\":{\"duration\":0,\"easing\":\"linear\"}}],\"label\":\"Texas\",\"method\":\"animate\"},{\"args\":[[\"Virginia\"],{\"frame\":{\"duration\":0,\"redraw\":false},\"mode\":\"immediate\",\"fromcurrent\":true,\"transition\":{\"duration\":0,\"easing\":\"linear\"}}],\"label\":\"Virginia\",\"method\":\"animate\"}],\"x\":0.1,\"xanchor\":\"left\",\"y\":0,\"yanchor\":\"top\"}]},                        {\"responsive\": true}                    ).then(function(){\n",
       "                            Plotly.addFrames('a8f8f90f-8db2-4886-9123-532772a07059', [{\"data\":[{\"hovertemplate\":\"\\u003cb\\u003e%{hovertext}\\u003c\\u002fb\\u003e\\u003cbr\\u003e\\u003cbr\\u003eState=Alabama\\u003cbr\\u003eYear=%{x}\\u003cbr\\u003eTotal Ocean GDP=%{marker.size}\\u003cextra\\u003e\\u003c\\u002fextra\\u003e\",\"hovertext\":[42.068312301726806,44.57310192057757,45.47873299859467],\"legendgroup\":\"\",\"marker\":{\"color\":\"#636efa\",\"size\":[42.068312301726806,44.57310192057757,45.47873299859467],\"sizemode\":\"area\",\"sizeref\":0.11436863721259133,\"symbol\":\"circle\"},\"mode\":\"markers\",\"name\":\"\",\"orientation\":\"v\",\"showlegend\":false,\"x\":[2005,2015,2021],\"xaxis\":\"x\",\"y\":[42.068312301726806,44.57310192057757,45.47873299859467],\"yaxis\":\"y\",\"type\":\"scatter\"}],\"name\":\"Alabama\"},{\"data\":[{\"hovertemplate\":\"\\u003cb\\u003e%{hovertext}\\u003c\\u002fb\\u003e\\u003cbr\\u003e\\u003cbr\\u003eState=Delaware\\u003cbr\\u003eYear=%{x}\\u003cbr\\u003eTotal Ocean GDP=%{marker.size}\\u003cextra\\u003e\\u003c\\u002fextra\\u003e\",\"hovertext\":[33.333333333333336,33.333333271038406,33.333333333333336],\"legendgroup\":\"\",\"marker\":{\"color\":\"#636efa\",\"size\":[33.333333333333336,33.333333271038406,33.333333333333336],\"sizemode\":\"area\",\"sizeref\":0.11436863721259133,\"symbol\":\"circle\"},\"mode\":\"markers\",\"name\":\"\",\"orientation\":\"v\",\"showlegend\":false,\"x\":[2005,2015,2021],\"xaxis\":\"x\",\"y\":[33.333333333333336,33.333333271038406,33.333333333333336],\"yaxis\":\"y\",\"type\":\"scatter\"}],\"name\":\"Delaware\"},{\"data\":[{\"hovertemplate\":\"\\u003cb\\u003e%{hovertext}\\u003c\\u002fb\\u003e\\u003cbr\\u003e\\u003cbr\\u003eState=Florida\\u003cbr\\u003eYear=%{x}\\u003cbr\\u003eTotal Ocean GDP=%{marker.size}\\u003cextra\\u003e\\u003c\\u002fextra\\u003e\",\"hovertext\":[3.6692505191059137,3.7432574333701822,3.6158435335134382],\"legendgroup\":\"\",\"marker\":{\"color\":\"#636efa\",\"size\":[3.6692505191059137,3.7432574333701822,3.6158435335134382],\"sizemode\":\"area\",\"sizeref\":0.11436863721259133,\"symbol\":\"circle\"},\"mode\":\"markers\",\"name\":\"\",\"orientation\":\"v\",\"showlegend\":false,\"x\":[2005,2015,2021],\"xaxis\":\"x\",\"y\":[3.6692505191059137,3.7432574333701822,3.6158435335134382],\"yaxis\":\"y\",\"type\":\"scatter\"}],\"name\":\"Florida\"},{\"data\":[{\"hovertemplate\":\"\\u003cb\\u003e%{hovertext}\\u003c\\u002fb\\u003e\\u003cbr\\u003e\\u003cbr\\u003eState=Georgia\\u003cbr\\u003eYear=%{x}\\u003cbr\\u003eTotal Ocean GDP=%{marker.size}\\u003cextra\\u003e\\u003c\\u002fextra\\u003e\",\"hovertext\":[35.15080761381264,45.45728761731739,45.74745488503653],\"legendgroup\":\"\",\"marker\":{\"color\":\"#636efa\",\"size\":[35.15080761381264,45.45728761731739,45.74745488503653],\"sizemode\":\"area\",\"sizeref\":0.11436863721259133,\"symbol\":\"circle\"},\"mode\":\"markers\",\"name\":\"\",\"orientation\":\"v\",\"showlegend\":false,\"x\":[2005,2015,2021],\"xaxis\":\"x\",\"y\":[35.15080761381264,45.45728761731739,45.74745488503653],\"yaxis\":\"y\",\"type\":\"scatter\"}],\"name\":\"Georgia\"},{\"data\":[{\"hovertemplate\":\"\\u003cb\\u003e%{hovertext}\\u003c\\u002fb\\u003e\\u003cbr\\u003e\\u003cbr\\u003eState=Louisiana\\u003cbr\\u003eYear=%{x}\\u003cbr\\u003eTotal Ocean GDP=%{marker.size}\\u003cextra\\u003e\\u003c\\u002fextra\\u003e\",\"hovertext\":[14.304705355212281,13.063328110961866,12.583408271514617],\"legendgroup\":\"\",\"marker\":{\"color\":\"#636efa\",\"size\":[14.304705355212281,13.063328110961866,12.583408271514617],\"sizemode\":\"area\",\"sizeref\":0.11436863721259133,\"symbol\":\"circle\"},\"mode\":\"markers\",\"name\":\"\",\"orientation\":\"v\",\"showlegend\":false,\"x\":[2005,2015,2021],\"xaxis\":\"x\",\"y\":[14.304705355212281,13.063328110961866,12.583408271514617],\"yaxis\":\"y\",\"type\":\"scatter\"}],\"name\":\"Louisiana\"},{\"data\":[{\"hovertemplate\":\"\\u003cb\\u003e%{hovertext}\\u003c\\u002fb\\u003e\\u003cbr\\u003e\\u003cbr\\u003eState=Maine\\u003cbr\\u003eYear=%{x}\\u003cbr\\u003eTotal Ocean GDP=%{marker.size}\\u003cextra\\u003e\\u003c\\u002fextra\\u003e\",\"hovertext\":[28.933164872412505,30.392173486790533,30.528911007587194],\"legendgroup\":\"\",\"marker\":{\"color\":\"#636efa\",\"size\":[28.933164872412505,30.392173486790533,30.528911007587194],\"sizemode\":\"area\",\"sizeref\":0.11436863721259133,\"symbol\":\"circle\"},\"mode\":\"markers\",\"name\":\"\",\"orientation\":\"v\",\"showlegend\":false,\"x\":[2005,2015,2021],\"xaxis\":\"x\",\"y\":[28.933164872412505,30.392173486790533,30.528911007587194],\"yaxis\":\"y\",\"type\":\"scatter\"}],\"name\":\"Maine\"},{\"data\":[{\"hovertemplate\":\"\\u003cb\\u003e%{hovertext}\\u003c\\u002fb\\u003e\\u003cbr\\u003e\\u003cbr\\u003eState=Maryland\\u003cbr\\u003eYear=%{x}\\u003cbr\\u003eTotal Ocean GDP=%{marker.size}\\u003cextra\\u003e\\u003c\\u002fextra\\u003e\",\"hovertext\":[11.763564619157627,12.051786708524851,12.469198100190738],\"legendgroup\":\"\",\"marker\":{\"color\":\"#636efa\",\"size\":[11.763564619157627,12.051786708524851,12.469198100190738],\"sizemode\":\"area\",\"sizeref\":0.11436863721259133,\"symbol\":\"circle\"},\"mode\":\"markers\",\"name\":\"\",\"orientation\":\"v\",\"showlegend\":false,\"x\":[2005,2015,2021],\"xaxis\":\"x\",\"y\":[11.763564619157627,12.051786708524851,12.469198100190738],\"yaxis\":\"y\",\"type\":\"scatter\"}],\"name\":\"Maryland\"},{\"data\":[{\"hovertemplate\":\"\\u003cb\\u003e%{hovertext}\\u003c\\u002fb\\u003e\\u003cbr\\u003e\\u003cbr\\u003eState=Massachusetts\\u003cbr\\u003eYear=%{x}\\u003cbr\\u003eTotal Ocean GDP=%{marker.size}\\u003cextra\\u003e\\u003c\\u002fextra\\u003e\",\"hovertext\":[10.906125341644392,10.989974130397448,13.119142567872904],\"legendgroup\":\"\",\"marker\":{\"color\":\"#636efa\",\"size\":[10.906125341644392,10.989974130397448,13.119142567872904],\"sizemode\":\"area\",\"sizeref\":0.11436863721259133,\"symbol\":\"circle\"},\"mode\":\"markers\",\"name\":\"\",\"orientation\":\"v\",\"showlegend\":false,\"x\":[2005,2015,2021],\"xaxis\":\"x\",\"y\":[10.906125341644392,10.989974130397448,13.119142567872904],\"yaxis\":\"y\",\"type\":\"scatter\"}],\"name\":\"Massachusetts\"},{\"data\":[{\"hovertemplate\":\"\\u003cb\\u003e%{hovertext}\\u003c\\u002fb\\u003e\\u003cbr\\u003e\\u003cbr\\u003eState=Mississippi\\u003cbr\\u003eYear=%{x}\\u003cbr\\u003eTotal Ocean GDP=%{marker.size}\\u003cextra\\u003e\\u003c\\u002fextra\\u003e\",\"hovertext\":[35.33575832230989,40.18265324247956,40.25209099870287],\"legendgroup\":\"\",\"marker\":{\"color\":\"#636efa\",\"size\":[35.33575832230989,40.18265324247956,40.25209099870287],\"sizemode\":\"area\",\"sizeref\":0.11436863721259133,\"symbol\":\"circle\"},\"mode\":\"markers\",\"name\":\"\",\"orientation\":\"v\",\"showlegend\":false,\"x\":[2005,2015,2021],\"xaxis\":\"x\",\"y\":[35.33575832230989,40.18265324247956,40.25209099870287],\"yaxis\":\"y\",\"type\":\"scatter\"}],\"name\":\"Mississippi\"},{\"data\":[{\"hovertemplate\":\"\\u003cb\\u003e%{hovertext}\\u003c\\u002fb\\u003e\\u003cbr\\u003e\\u003cbr\\u003eState=New Jersey\\u003cbr\\u003eYear=%{x}\\u003cbr\\u003eTotal Ocean GDP=%{marker.size}\\u003cextra\\u003e\\u003c\\u002fextra\\u003e\",\"hovertext\":[5.147801866601489,7.144540072164688,7.914347750936818],\"legendgroup\":\"\",\"marker\":{\"color\":\"#636efa\",\"size\":[5.147801866601489,7.144540072164688,7.914347750936818],\"sizemode\":\"area\",\"sizeref\":0.11436863721259133,\"symbol\":\"circle\"},\"mode\":\"markers\",\"name\":\"\",\"orientation\":\"v\",\"showlegend\":false,\"x\":[2005,2015,2021],\"xaxis\":\"x\",\"y\":[5.147801866601489,7.144540072164688,7.914347750936818],\"yaxis\":\"y\",\"type\":\"scatter\"}],\"name\":\"New Jersey\"},{\"data\":[{\"hovertemplate\":\"\\u003cb\\u003e%{hovertext}\\u003c\\u002fb\\u003e\\u003cbr\\u003e\\u003cbr\\u003eState=New York\\u003cbr\\u003eYear=%{x}\\u003cbr\\u003eTotal Ocean GDP=%{marker.size}\\u003cextra\\u003e\\u003c\\u002fextra\\u003e\",\"hovertext\":[3.195834279509455,2.9099024754405605,4.9894417110198575],\"legendgroup\":\"\",\"marker\":{\"color\":\"#636efa\",\"size\":[3.195834279509455,2.9099024754405605,4.9894417110198575],\"sizemode\":\"area\",\"sizeref\":0.11436863721259133,\"symbol\":\"circle\"},\"mode\":\"markers\",\"name\":\"\",\"orientation\":\"v\",\"showlegend\":false,\"x\":[2005,2015,2021],\"xaxis\":\"x\",\"y\":[3.195834279509455,2.9099024754405605,4.9894417110198575],\"yaxis\":\"y\",\"type\":\"scatter\"}],\"name\":\"New York\"},{\"data\":[{\"hovertemplate\":\"\\u003cb\\u003e%{hovertext}\\u003c\\u002fb\\u003e\\u003cbr\\u003e\\u003cbr\\u003eState=North Carolina\\u003cbr\\u003eYear=%{x}\\u003cbr\\u003eTotal Ocean GDP=%{marker.size}\\u003cextra\\u003e\\u003c\\u002fextra\\u003e\",\"hovertext\":[11.45460762837527,10.949613638082509,11.075671236752372],\"legendgroup\":\"\",\"marker\":{\"color\":\"#636efa\",\"size\":[11.45460762837527,10.949613638082509,11.075671236752372],\"sizemode\":\"area\",\"sizeref\":0.11436863721259133,\"symbol\":\"circle\"},\"mode\":\"markers\",\"name\":\"\",\"orientation\":\"v\",\"showlegend\":false,\"x\":[2005,2015,2021],\"xaxis\":\"x\",\"y\":[11.45460762837527,10.949613638082509,11.075671236752372],\"yaxis\":\"y\",\"type\":\"scatter\"}],\"name\":\"North Carolina\"},{\"data\":[{\"hovertemplate\":\"\\u003cb\\u003e%{hovertext}\\u003c\\u002fb\\u003e\\u003cbr\\u003e\\u003cbr\\u003eState=Rhode Island\\u003cbr\\u003eYear=%{x}\\u003cbr\\u003eTotal Ocean GDP=%{marker.size}\\u003cextra\\u003e\\u003c\\u002fextra\\u003e\",\"hovertext\":[23.3198114402875,33.75363315866039,32.52215009048353],\"legendgroup\":\"\",\"marker\":{\"color\":\"#636efa\",\"size\":[23.3198114402875,33.75363315866039,32.52215009048353],\"sizemode\":\"area\",\"sizeref\":0.11436863721259133,\"symbol\":\"circle\"},\"mode\":\"markers\",\"name\":\"\",\"orientation\":\"v\",\"showlegend\":false,\"x\":[2005,2015,2021],\"xaxis\":\"x\",\"y\":[23.3198114402875,33.75363315866039,32.52215009048353],\"yaxis\":\"y\",\"type\":\"scatter\"}],\"name\":\"Rhode Island\"},{\"data\":[{\"hovertemplate\":\"\\u003cb\\u003e%{hovertext}\\u003c\\u002fb\\u003e\\u003cbr\\u003e\\u003cbr\\u003eState=South Carolina\\u003cbr\\u003eYear=%{x}\\u003cbr\\u003eTotal Ocean GDP=%{marker.size}\\u003cextra\\u003e\\u003c\\u002fextra\\u003e\",\"hovertext\":[29.402138094201902,27.58991292612531,29.407881457364777],\"legendgroup\":\"\",\"marker\":{\"color\":\"#636efa\",\"size\":[29.402138094201902,27.58991292612531,29.407881457364777],\"sizemode\":\"area\",\"sizeref\":0.11436863721259133,\"symbol\":\"circle\"},\"mode\":\"markers\",\"name\":\"\",\"orientation\":\"v\",\"showlegend\":false,\"x\":[2005,2015,2021],\"xaxis\":\"x\",\"y\":[29.402138094201902,27.58991292612531,29.407881457364777],\"yaxis\":\"y\",\"type\":\"scatter\"}],\"name\":\"South Carolina\"},{\"data\":[{\"hovertemplate\":\"\\u003cb\\u003e%{hovertext}\\u003c\\u002fb\\u003e\\u003cbr\\u003e\\u003cbr\\u003eState=Texas\\u003cbr\\u003eYear=%{x}\\u003cbr\\u003eTotal Ocean GDP=%{marker.size}\\u003cextra\\u003e\\u003c\\u002fextra\\u003e\",\"hovertext\":[0.8623966430532668,1.1423484494248055,1.1367264478543913],\"legendgroup\":\"\",\"marker\":{\"color\":\"#636efa\",\"size\":[0.8623966430532668,1.1423484494248055,1.1367264478543913],\"sizemode\":\"area\",\"sizeref\":0.11436863721259133,\"symbol\":\"circle\"},\"mode\":\"markers\",\"name\":\"\",\"orientation\":\"v\",\"showlegend\":false,\"x\":[2005,2015,2021],\"xaxis\":\"x\",\"y\":[0.8623966430532668,1.1423484494248055,1.1367264478543913],\"yaxis\":\"y\",\"type\":\"scatter\"}],\"name\":\"Texas\"},{\"data\":[{\"hovertemplate\":\"\\u003cb\\u003e%{hovertext}\\u003c\\u002fb\\u003e\\u003cbr\\u003e\\u003cbr\\u003eState=Virginia\\u003cbr\\u003eYear=%{x}\\u003cbr\\u003eTotal Ocean GDP=%{marker.size}\\u003cextra\\u003e\\u003c\\u002fextra\\u003e\",\"hovertext\":[6.356923882652751,5.19646773955517,4.792890364582448],\"legendgroup\":\"\",\"marker\":{\"color\":\"#636efa\",\"size\":[6.356923882652751,5.19646773955517,4.792890364582448],\"sizemode\":\"area\",\"sizeref\":0.11436863721259133,\"symbol\":\"circle\"},\"mode\":\"markers\",\"name\":\"\",\"orientation\":\"v\",\"showlegend\":false,\"x\":[2005,2015,2021],\"xaxis\":\"x\",\"y\":[6.356923882652751,5.19646773955517,4.792890364582448],\"yaxis\":\"y\",\"type\":\"scatter\"}],\"name\":\"Virginia\"}]);\n",
       "                        }).then(function(){\n",
       "                            \n",
       "var gd = document.getElementById('a8f8f90f-8db2-4886-9123-532772a07059');\n",
       "var x = new MutationObserver(function (mutations, observer) {{\n",
       "        var display = window.getComputedStyle(gd).display;\n",
       "        if (!display || display === 'none') {{\n",
       "            console.log([gd, 'removed!']);\n",
       "            Plotly.purge(gd);\n",
       "            observer.disconnect();\n",
       "        }}\n",
       "}});\n",
       "\n",
       "// Listen for the removal of the full notebook cells\n",
       "var notebookContainer = gd.closest('#notebook-container');\n",
       "if (notebookContainer) {{\n",
       "    x.observe(notebookContainer, {childList: true});\n",
       "}}\n",
       "\n",
       "// Listen for the clearing of the current output cell\n",
       "var outputEl = gd.closest('.output');\n",
       "if (outputEl) {{\n",
       "    x.observe(outputEl, {childList: true});\n",
       "}}\n",
       "\n",
       "                        })                };                });            </script>        </div>"
      ]
     },
     "metadata": {},
     "output_type": "display_data"
    }
   ],
   "source": [
    "df_state = df_melt[['State','Year','Total Ocean GDP']].groupby(['State','Year']).mean()\n",
    "\n",
    "# Create the line plot\n",
    "fig = px.scatter(df_state.reset_index(), x='Year', y='Total Ocean GDP', animation_frame='State',\n",
    "              hover_name = 'Total Ocean GDP', range_y=[0,df_state['Total Ocean GDP'].max()+1],\n",
    "              size = 'Total Ocean GDP',range_x = [2004.5,2021.5], width = 600, height = 500)\n",
    "\n",
    "# Update the layout to specify 5 custom x-axis ticks\n",
    "fig.update_layout(\n",
    "    width = 800, height = 600,\n",
    "    xaxis=dict(\n",
    "        tickmode='array',\n",
    "        # Set the positions where the ticks should appear\n",
    "        tickvals=[2005,2015,2021],\n",
    "        # Set the text labels for the ticks\n",
    "        ticktext=[2005,2015,2021]\n",
    "    )\n",
    ")\n",
    "\n",
    "# Rotate the tick labels if needed\n",
    "fig.update_xaxes(tickangle=45)\n",
    "fig.show()"
   ]
  },
  {
   "cell_type": "code",
   "execution_count": null,
   "id": "b403a410-5123-4d38-9dbe-533f102e5be6",
   "metadata": {},
   "outputs": [],
   "source": []
  },
  {
   "cell_type": "code",
   "execution_count": null,
   "id": "9cf075b8-cacd-44db-91e6-6b67402ca0e7",
   "metadata": {},
   "outputs": [],
   "source": []
  },
  {
   "cell_type": "code",
   "execution_count": null,
   "id": "1e11df5d-beb0-4ab0-9162-e1c1768eb69f",
   "metadata": {},
   "outputs": [],
   "source": []
  },
  {
   "cell_type": "code",
   "execution_count": null,
   "id": "1c3a174f-ad5a-4866-a6cd-9d985a6b5fa5",
   "metadata": {},
   "outputs": [],
   "source": [
    "\n",
    "\n",
    "\n",
    "import geopandas as gpd\n",
    "import geoplot as gplt\n",
    "\n",
    "# Load the json file with county coordinates\n",
    "geoData = gpd.read_file('https://raw.githubusercontent.com/holtzy/The-Python-Graph-Gallery/master/static/data/US-counties.geojson')\n",
    "\n",
    "\n",
    "\n",
    "# Remove Alaska, Hawaii and Puerto Rico.\n",
    "stateToRemove = ['02', '15', '72']\n",
    "geoData = geoData[~geoData.STATE.isin(stateToRemove)]\n",
    "\n",
    "\n",
    "# Make sure the \"id\" column is an integer\n",
    "geoData.id = geoData.id.astype(str).astype(int)\n",
    "geoData = geoData[geoData['id']!=5051]\n",
    "\n",
    "# Basic plot with just county outlines\n",
    "gplt.polyplot(geoData);\n",
    "\n",
    "import geopandas as gpd\n",
    "import geoplot as gplt\n",
    "\n",
    "# Load the json file with county coordinates\n",
    "geoData = gpd.read_file('https://raw.githubusercontent.com/holtzy/The-Python-Graph-Gallery/master/static/data/US-counties.geojson')\n",
    "\n",
    "\n",
    "\n",
    "# Keep east coast states\n",
    "stateToKeep = ['01', '05', '10', '12', '13', '22', '23', '24', '25', '28', '34',\n",
    "       '36', '37', '44', '45', '48', '51']\n",
    "geoData = geoData[geoData.STATE.isin(stateToKeep)]\n",
    "\n",
    "\n",
    "# Make sure the \"id\" column is an integer\n",
    "geoData.id = geoData.id.astype(str).astype(int)\n",
    "geoData = geoData[geoData['id']!=5051]\n",
    "\n",
    "# Basic plot with just county outlines\n",
    "gplt.polyplot(geoData);\n",
    "\n",
    "\n",
    "\n",
    "\n",
    "\n",
    "tourism_df['FIPS*'] = tourism_df['FIPS*'].astype(int)\n",
    "fullData = geoData.merge(tourism_df, left_on=['id'], right_on=['FIPS*'], how = 'left').drop(columns = ['FIPS*', 'State','County name'])\n",
    "# fullData[2015]= (fullData[2015]-fullData[2005])/fullData[2005]\n",
    "# fullData[2021]= (fullData[2021] - fullData[2005])/fullData[2005]\n",
    "\n",
    "# fullData = fullData.drop([2005],axis = 1).fillna(-10)\n",
    "\n",
    "fullData[2015]-=fullData[2005]\n",
    "fullData[2021]-=fullData[2005]\n",
    "\n",
    "fullData = fullData.drop([2005],axis = 1).fillna(-40)\n",
    "\n",
    "fullData.head(2)\n",
    "\n",
    "# tourism_df['FIPS*'] = tourism_df['FIPS*'].astype(int)\n",
    "# fullData = geoData.merge(tourism_df, left_on=['id'], right_on=['FIPS*']).drop(columns = ['FIPS*', 'State','County name'])\n",
    "# fullData.head(2)\n",
    "\n",
    "# # Initialize the figure\n",
    "# import matplotlib.pyplot as plt\n",
    "# fig, ax = plt.subplots(1, 1, figsize=(16, 12))\n",
    "\n",
    "# # Set up the color sheme:\n",
    "# # import mapclassify as mc\n",
    "# # scheme = mc.Quantiles(fullData[2005], k=10)\n",
    "\n",
    "# # Map\n",
    "# gplt.choropleth(fullData, \n",
    "#     hue=(fullData[2005].values), \n",
    "#     linewidth=.1,\n",
    "#     cmap='inferno_r',\n",
    "#     legend=True,\n",
    "#     edgecolor='black',\n",
    "#     ax=ax\n",
    "# )\n",
    "\n",
    "# ax.set_title('Trying out 2005 plots', fontsize=13);\n",
    "# plt.savefig('2005.png')\n",
    "# plt.show()\n",
    "\n",
    "# Initialize the figure\n",
    "import matplotlib.pyplot as plt\n",
    "fig, ax = plt.subplots(1, 1, figsize=(16, 12))\n",
    "\n",
    "# Set up the color sheme:\n",
    "# import mapclassify as mc\n",
    "# scheme = mc.Quantiles(fullData[2005], k=10)\n",
    "\n",
    "# Map\n",
    "gplt.choropleth(fullData, \n",
    "    hue=fullData[2015].values, \n",
    "    linewidth=.1,\n",
    "    cmap='inferno_r',\n",
    "    legend=True,\n",
    "    edgecolor='black',\n",
    "    ax=ax\n",
    ")\n",
    "\n",
    "ax.set_title('Change of GDP in 2015 from 2005', fontsize=13);\n",
    "plt.savefig('2015.png')\n",
    "plt.show()\n",
    "\n",
    "fullData = geoData.merge(tourism_df, left_on=['id'], right_on=['FIPS*'], how = 'left').drop(columns = ['FIPS*', 'State','County name'])\n",
    "fullData[2015]-=fullData[2005]\n",
    "fullData[2021]-=fullData[2005]\n",
    "\n",
    "fullData = fullData.drop([2005],axis = 1).fillna(-20)\n",
    "# fullData.head(2)\n",
    "# Initialize the figure\n",
    "import matplotlib.pyplot as plt\n",
    "fig, ax = plt.subplots(1, 1, figsize=(16, 12))\n",
    "\n",
    "# Set up the color sheme:\n",
    "# import mapclassify as mc\n",
    "# scheme = mc.Quantiles(fullData[2005], k=10)\n",
    "\n",
    "# Map\n",
    "gplt.choropleth(fullData, \n",
    "    hue=fullData[2021].values, \n",
    "    linewidth=.1,\n",
    "    cmap='inferno_r',\n",
    "    legend=True,\n",
    "    edgecolor='black',\n",
    "    ax=ax\n",
    ")\n",
    "\n",
    "ax.set_title('Trying out 2021 plots', fontsize=13);\n",
    "plt.savefig('2021.png')\n",
    "plt.show()\n"
   ]
  },
  {
   "cell_type": "code",
   "execution_count": null,
   "id": "b10b0d7f-95c3-4733-ba9a-294dc8120f77",
   "metadata": {},
   "outputs": [],
   "source": [
    "merged_SO2_df = pd.read_csv('merged-csv-files-SO2.csv', chunksize = 10000)\n",
    "fips = tourism_df['FIPS*'].astype(int).astype(str).str.zfill(5)\n",
    "cols = ['State Code', 'County Code','Arithmetic Mean', 'County Name', 'Date Local']\n",
    "SO2_df = pd.DataFrame()\n",
    "SO2_df.cols = ['State Code', 'County Code','Arithmetic Mean', 'County Name', 'Date Local', 'id']\n",
    "stateToKeep = ['01', '05', '10', '12', '13', '22', '23', '24', '25', '28', '34',\n",
    "       '36', '37', '44', '45', '48', '51']\n",
    "for chunks in merged_SO2_df:\n",
    "    chunks = chunks[cols]\n",
    "    chunks['State Code'] =  chunks['State Code'].astype(str).str.zfill(2)\n",
    "    chunks['County Code'] =  chunks['County Code'].astype(str).str.zfill(3)\n",
    "    #Keep desired states\n",
    "    chunks = chunks[chunks['State Code'].isin(stateToKeep)]\n",
    "    chunks['id'] = chunks['State Code'] + chunks['County Code']\n",
    "    # restrict chunks to contain only desired counties\n",
    "    chunks = chunks[chunks['id'].isin(fips.values)]\n",
    "    # if the dataframe is non empty concat\n",
    "    if chunks.shape[0]>0:\n",
    "        SO2_df = pd.concat([SO2_df,chunks], ignore_index= True)\n",
    "\n",
    "SO2_df.shape\n",
    "\n",
    "SO2_df.to_csv('SO2_df.csv', header = False)\n",
    "\n",
    "\n",
    "\n",
    "\n",
    "\n",
    "\n",
    "\n",
    "merged_CO_df = pd.read_csv('merged-csv-files-CO.csv', chunksize = 10000)\n",
    "fips = tourism_df['FIPS*'].astype(int).astype(str).str.zfill(5)\n",
    "cols = ['State Code', 'County Code','Arithmetic Mean', 'County Name', 'Date Local']\n",
    "CO_df = pd.DataFrame()\n",
    "CO_df.cols = ['State Code', 'County Code','Arithmetic Mean', 'County Name', 'Date Local', 'id']\n",
    "stateToKeep = ['01', '05', '10', '12', '13', '22', '23', '24', '25', '28', '34',\n",
    "       '36', '37', '44', '45', '48', '51']\n",
    "for chunks in merged_CO_df:\n",
    "    chunks = chunks[cols]\n",
    "    chunks['State Code'] =  chunks['State Code'].astype(str).str.zfill(2)\n",
    "    chunks['County Code'] =  chunks['County Code'].astype(str).str.zfill(3)\n",
    "    #Keep desired states\n",
    "    chunks = chunks[chunks['State Code'].isin(stateToKeep)]\n",
    "    chunks['id'] = chunks['State Code'] + chunks['County Code']\n",
    "    # restrict chunks to contain only desired counties\n",
    "    chunks = chunks[chunks['id'].isin(fips.values)]\n",
    "    # if the dataframe is non empty concat\n",
    "    if chunks.shape[0]>0:\n",
    "        CO_df = pd.concat([CO_df,chunks], ignore_index= True)\n",
    "\n",
    "\n",
    "\n",
    "CO_df.head(2)\n",
    "\n",
    "CO_df.to_csv('CO_df.csv', header = False)\n"
   ]
  }
 ],
 "metadata": {
  "kernelspec": {
   "display_name": "Python 3 (ipykernel)",
   "language": "python",
   "name": "python3"
  },
  "language_info": {
   "codemirror_mode": {
    "name": "ipython",
    "version": 3
   },
   "file_extension": ".py",
   "mimetype": "text/x-python",
   "name": "python",
   "nbconvert_exporter": "python",
   "pygments_lexer": "ipython3",
   "version": "3.11.7"
  }
 },
 "nbformat": 4,
 "nbformat_minor": 5
}
